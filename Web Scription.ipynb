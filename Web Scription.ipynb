{
 "cells": [
  {
   "cell_type": "code",
   "execution_count": 1,
   "id": "f8361cd1",
   "metadata": {},
   "outputs": [
    {
     "name": "stdout",
     "output_type": "stream",
     "text": [
      "<Response [403]>\n"
     ]
    }
   ],
   "source": [
    "import requests\n",
    "from bs4 import BeautifulSoup\n",
    "\n",
    "headers = {\n",
    "    'User-Agent': 'Mozilla/5.0 (Windows NT 10.0; Win64; x64) AppleWebKit/537.36 (KHTML, like Gecko) Chrome/58.0.3029.110 Safari/537.3'}\n",
    "\n",
    "search_term = 'jewellery'\n",
    "location = 'birmingham'\n",
    "\n",
    "url = f'https://www.yell.com/ucs/UcsSearchAction.do?keywords={search_term}&location={location}&pageNum=1'\n",
    "\n",
    "response = requests.get(url, headers=headers)\n",
    "print(response)\n",
    "content = response.content\n",
    "\n",
    "soup = BeautifulSoup(content, 'html.parser')\n",
    "\n",
    "listings = soup.find_all('div', {'class': 'row businessCapsule--mainRow'})\n",
    "\n",
    "\n",
    "for listing in listings:\n",
    "    name = listing.find('a', {'class': 'businessCapsule--name'}).text.strip()\n",
    "    address = listing.find('span', {'class': 'businessCapsule--address'}).text.strip()\n",
    "    phone = listing.find('span', {'class': 'business--telephoneNumber'}).text.strip()\n",
    "\n",
    "    print('Name:', name)\n",
    "    print('Address:', address)\n",
    "    print('Phone:', phone)\n",
    "    print('--------------------')\n",
    "\n"
   ]
  }
 ],
 "metadata": {
  "kernelspec": {
   "display_name": "Python 3 (ipykernel)",
   "language": "python",
   "name": "python3"
  },
  "language_info": {
   "codemirror_mode": {
    "name": "ipython",
    "version": 3
   },
   "file_extension": ".py",
   "mimetype": "text/x-python",
   "name": "python",
   "nbconvert_exporter": "python",
   "pygments_lexer": "ipython3",
   "version": "3.9.7"
  }
 },
 "nbformat": 4,
 "nbformat_minor": 5
}
